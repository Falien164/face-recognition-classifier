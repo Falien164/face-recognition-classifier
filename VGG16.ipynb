{
 "cells": [
  {
   "cell_type": "markdown",
   "id": "72e3d251-756e-43a0-9972-54fdefdfe216",
   "metadata": {},
   "source": [
    "Face recognition by using transfer learning and VGG16 model\n",
    "\n",
    "https://www.kaggle.com/dansbecker/5-celebrity-faces-dataset\n",
    "\n",
    "This dataset has 5 celebrity:\n",
    "- elton_john\n",
    "- ben_afflek\n",
    "- jerry_seinfeld\n",
    "- madonna\n",
    "- mindy_kaling\n"
   ]
  },
  {
   "cell_type": "code",
   "execution_count": null,
   "id": "04023f0c-58bb-4e35-b52a-d0b98257d705",
   "metadata": {},
   "outputs": [],
   "source": [
    "import numpy as np\n",
    "from glob import glob\n",
    "import tensorflow as tf\n",
    "from tensorflow.keras.preprocessing import image \n",
    "\n",
    "from keras.applications.vgg16 import VGG16\n",
    "from tensorflow.keras.preprocessing.image import ImageDataGenerator\n",
    "from keras.models import Model\n",
    "from keras.layers import Input, Lambda, Dense, Flatten\n",
    "from sklearn.metrics import classification_report, confusion_matrix\n",
    "from keras import metrics\n",
    "from tensorflow.keras.layers import Conv2D, Dense\n",
    "from keras.regularizers import l2"
   ]
  },
  {
   "cell_type": "code",
   "execution_count": null,
   "id": "570fd7c2-559b-4ffa-9748-4f52b11d185a",
   "metadata": {},
   "outputs": [],
   "source": [
    "IMAGE_SIZE = [160,160]\n",
    "\n",
    "training_folder = 'train/'\n",
    "validating_folder = 'val/'"
   ]
  },
  {
   "cell_type": "code",
   "execution_count": null,
   "id": "d2b96de2-8d34-4154-8d12-2d6174e01de9",
   "metadata": {},
   "outputs": [],
   "source": [
    "train_datagen = ImageDataGenerator(rescale = 1./255)"
   ]
  },
  {
   "cell_type": "code",
   "execution_count": null,
   "id": "e42282d9-ab4e-48c4-96c6-bd4f0d17a077",
   "metadata": {},
   "outputs": [],
   "source": [
    "training_set = train_datagen.flow_from_directory(training_folder, target_size = IMAGE_SIZE,\n",
    "                                                 batch_size = 8,\n",
    "                                                 class_mode = \"categorical\")"
   ]
  },
  {
   "cell_type": "code",
   "execution_count": null,
   "id": "8db94089-1fea-4d52-ae52-9ab1d73b91b8",
   "metadata": {},
   "outputs": [],
   "source": [
    "test_datagen = ImageDataGenerator(rescale = 1./255)"
   ]
  },
  {
   "cell_type": "code",
   "execution_count": null,
   "id": "1ebdb042-5251-4721-a60e-70d6384a00d3",
   "metadata": {},
   "outputs": [],
   "source": [
    "test_set = test_datagen.flow_from_directory(validating_folder, target_size = IMAGE_SIZE,\n",
    "                                                 batch_size = 8,\n",
    "                                                 class_mode = \"categorical\",\n",
    "                                                 shuffle = False)"
   ]
  },
  {
   "cell_type": "code",
   "execution_count": null,
   "id": "a1224a2a-c36b-44df-97e7-8fd6ee4cbc36",
   "metadata": {},
   "outputs": [],
   "source": [
    "vgg = VGG16(input_shape = IMAGE_SIZE + [3], weights = 'imagenet', include_top = False)"
   ]
  },
  {
   "cell_type": "code",
   "execution_count": null,
   "id": "8d6fe348-e5ce-4734-9dd9-04a84d67e56e",
   "metadata": {},
   "outputs": [],
   "source": [
    "for layer in vgg.layers:\n",
    "    layer.trainable = False"
   ]
  },
  {
   "cell_type": "code",
   "execution_count": null,
   "id": "9dfb4a55-7ae8-40b0-855b-6ff836324816",
   "metadata": {},
   "outputs": [],
   "source": [
    "x = Flatten()(vgg.output)"
   ]
  },
  {
   "cell_type": "code",
   "execution_count": null,
   "id": "fb46b24b-6a89-4722-83e2-af89ec1e6a86",
   "metadata": {},
   "outputs": [],
   "source": [
    "prediction = Dense(5, activation = 'softmax')(x)"
   ]
  },
  {
   "cell_type": "code",
   "execution_count": null,
   "id": "1c20409c-80c0-4a0e-a659-034c5e7efe1e",
   "metadata": {},
   "outputs": [],
   "source": [
    "model = Model(inputs = vgg.input, outputs = prediction)"
   ]
  },
  {
   "cell_type": "code",
   "execution_count": null,
   "id": "33952bcf-3c3d-4041-ab53-352bb0c739a0",
   "metadata": {},
   "outputs": [],
   "source": [
    "model.summary()"
   ]
  },
  {
   "cell_type": "code",
   "execution_count": null,
   "id": "c1bd850d-ff03-479c-b31c-56c18e7c934f",
   "metadata": {},
   "outputs": [],
   "source": [
    "training_set.shuffle= True"
   ]
  },
  {
   "cell_type": "code",
   "execution_count": null,
   "id": "b490853b-bf88-4aba-a403-172df2ce2a2f",
   "metadata": {},
   "outputs": [],
   "source": [
    "model.compile(optimizer= 'adam', loss= 'CategoricalCrossentropy', metrics = ['accuracy'])\n",
    "\n",
    "r = model.fit(x = training_set, validation_data = test_set, epochs = 5)"
   ]
  },
  {
   "cell_type": "code",
   "execution_count": null,
   "id": "69a6a142-3cee-4900-b946-f6ac3bc6f5fd",
   "metadata": {},
   "outputs": [],
   "source": [
    "import matplotlib.pyplot as plt\n",
    "plt.plot(r.history['loss'], label = 'train loss')\n",
    "plt.plot(r.history['val_loss'], label = 'val loss')\n",
    "plt.legend()\n",
    "plt.show()"
   ]
  },
  {
   "cell_type": "code",
   "execution_count": null,
   "id": "94e7b5a0-fd92-4ce7-aa9b-284f8f7463ca",
   "metadata": {},
   "outputs": [],
   "source": [
    "import matplotlib.pyplot as plt\n",
    "plt.plot(r.history['accuracy'], label = 'train acc')\n",
    "plt.plot(r.history['val_accuracy'], label = 'val acc')\n",
    "plt.legend()\n",
    "plt.show()"
   ]
  },
  {
   "cell_type": "code",
   "execution_count": null,
   "id": "4b0e2414-6ae0-4f4e-bbf2-0c31a5b6b245",
   "metadata": {},
   "outputs": [],
   "source": [
    "def recognize_face(filename):\n",
    "    test_image = image.load_img(filename, target_size = (160,160))\n",
    "    test_image = image.img_to_array(test_image)\n",
    "    test_image = test_image/255\n",
    "    test_image = np.expand_dims(test_image, axis = 0)\n",
    "    result = model.predict(test_image)\n",
    "    return result"
   ]
  },
  {
   "cell_type": "code",
   "execution_count": null,
   "id": "970f59be-a144-4c1b-8733-1de53bc90fb6",
   "metadata": {},
   "outputs": [],
   "source": [
    "np.set_printoptions(suppress=True)\n",
    "result = recognize_face('val/mindy_kaling/4.jpg')\n",
    "print(result)\n",
    "np.argmax(result)\n"
   ]
  },
  {
   "cell_type": "code",
   "execution_count": null,
   "id": "a82367ba-ae9b-4e50-b1c1-29bb8f2b006e",
   "metadata": {},
   "outputs": [],
   "source": [
    "np.argmax(model.predict(test_set),axis=1)"
   ]
  },
  {
   "cell_type": "markdown",
   "id": "52f11e7e-58fb-4455-964e-727d06c0c0d0",
   "metadata": {},
   "source": [
    "### Zbiór uczacy - macierz pomyłek"
   ]
  },
  {
   "cell_type": "code",
   "execution_count": null,
   "id": "7ed4a2fe-1c53-4168-b433-b276249b29d8",
   "metadata": {},
   "outputs": [],
   "source": [
    "training_set.shuffle= False"
   ]
  },
  {
   "cell_type": "code",
   "execution_count": null,
   "id": "01cf9061-ffed-4730-a609-dcec3ee2ab1c",
   "metadata": {},
   "outputs": [],
   "source": [
    "y_pred = model.predict(training_set)\n",
    "predicted_classes = np.argmax(y_pred, axis=1)\n",
    "true_classes = training_set.classes\n",
    "class_labels = list(training_set.class_indices.keys())   \n",
    "report = confusion_matrix(true_classes, predicted_classes)\n",
    "print(report) "
   ]
  },
  {
   "cell_type": "markdown",
   "id": "de4da53b-2f48-4dc8-8154-e3f10a6a1824",
   "metadata": {},
   "source": [
    "### Zbiór testowy - macierz pomyłek"
   ]
  },
  {
   "cell_type": "code",
   "execution_count": null,
   "id": "fed311a9-a72f-49ea-8f61-cd966d187c9a",
   "metadata": {},
   "outputs": [],
   "source": [
    "y_pred = model.predict(test_set)\n",
    "predicted_classes = np.argmax(y_pred, axis=1)\n",
    "true_classes = test_set.classes\n",
    "class_labels = list(test_set.class_indices.keys())   "
   ]
  },
  {
   "cell_type": "code",
   "execution_count": null,
   "id": "228be85c-e78e-4ee9-ac65-822d60e3dc7b",
   "metadata": {},
   "outputs": [],
   "source": [
    "report = confusion_matrix(true_classes, predicted_classes)\n",
    "print(report)    "
   ]
  },
  {
   "cell_type": "code",
   "execution_count": null,
   "id": "f6c7350e-d6cb-481d-b1ce-6e6da7847a1f",
   "metadata": {},
   "outputs": [],
   "source": [
    "report = classification_report(true_classes, predicted_classes, target_names=class_labels)\n",
    "print(report)    "
   ]
  },
  {
   "cell_type": "code",
   "execution_count": null,
   "id": "c964ac00-54e0-4104-a9ad-dc8fb0d78ccd",
   "metadata": {},
   "outputs": [],
   "source": []
  },
  {
   "cell_type": "code",
   "execution_count": null,
   "id": "9f153a1c-e334-48ba-9f5c-91b819ca0791",
   "metadata": {},
   "outputs": [],
   "source": []
  }
 ],
 "metadata": {
  "kernelspec": {
   "display_name": "Python 3 (ipykernel)",
   "language": "python",
   "name": "python3"
  },
  "language_info": {
   "codemirror_mode": {
    "name": "ipython",
    "version": 3
   },
   "file_extension": ".py",
   "mimetype": "text/x-python",
   "name": "python",
   "nbconvert_exporter": "python",
   "pygments_lexer": "ipython3",
   "version": "3.9.5"
  }
 },
 "nbformat": 4,
 "nbformat_minor": 5
}

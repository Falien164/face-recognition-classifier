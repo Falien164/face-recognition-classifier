{
 "cells": [
  {
   "cell_type": "markdown",
   "id": "294c7faa-3bc6-4a91-b71a-504c14d436b3",
   "metadata": {},
   "source": [
    "Extract faces from photo, delete it and create a one only with detected face.\n",
    "\n",
    "\n",
    "This part is based on:\n",
    "https://machinelearningmastery.com/how-to-develop-a-face-recognition-system-using-facenet-in-keras-and-an-svm-classifier/"
   ]
  },
  {
   "cell_type": "code",
   "execution_count": 2,
   "id": "71c0148f-2229-4092-a9d5-334a3ded0d47",
   "metadata": {},
   "outputs": [
    {
     "name": "stdout",
     "output_type": "stream",
     "text": [
      "0.1.0\n"
     ]
    }
   ],
   "source": [
    "import mtcnn\n",
    "print(mtcnn.__version__)"
   ]
  },
  {
   "cell_type": "code",
   "execution_count": 3,
   "id": "845ebc41-84c2-4e3e-ba51-9842d81278f0",
   "metadata": {},
   "outputs": [],
   "source": [
    "from os import listdir\n",
    "import os\n",
    "from PIL import Image\n",
    "from numpy import asarray\n",
    "from mtcnn.mtcnn import MTCNN\n",
    "from os.path import isdir"
   ]
  },
  {
   "cell_type": "code",
   "execution_count": 17,
   "id": "2b1bd004-8800-4f5d-be3f-7798b9372446",
   "metadata": {},
   "outputs": [],
   "source": [
    "IMAGE_SIZE = [160,160]\n",
    "\n",
    "training_folder = 'data/train/'\n",
    "validating_folder = 'data/val/'"
   ]
  },
  {
   "cell_type": "code",
   "execution_count": 18,
   "id": "34581e4a-7ebc-49d4-a0cf-80da9cfd6067",
   "metadata": {},
   "outputs": [],
   "source": [
    "def extract_face(filename, required_size=IMAGE_SIZE):\n",
    "\timage = Image.open(filename)\n",
    "\timage = image.convert('RGB')\n",
    "\tpixels = asarray(image)\n",
    "\tdetector = MTCNN()\n",
    "\tresults = detector.detect_faces(pixels)\n",
    "\tx1, y1, width, height = results[0]['box']\n",
    "\tx1, y1 = abs(x1), abs(y1)\n",
    "\tx2, y2 = x1 + width, y1 + height\n",
    "\tface = pixels[y1:y2, x1:x2]\n",
    "\timage = Image.fromarray(face)\n",
    "\timage = image.resize(required_size)\n",
    "\tface_array = asarray(image)\n",
    "\treturn face_array"
   ]
  },
  {
   "cell_type": "code",
   "execution_count": 19,
   "id": "cabd2788-b4be-4e39-a778-9619323f88f9",
   "metadata": {},
   "outputs": [],
   "source": [
    "def load_faces(directory):\n",
    "    faces = list()\n",
    "    i = 0\n",
    "    for filename in listdir(directory):\n",
    "        path = directory + filename\n",
    "        face = extract_face(path)\n",
    "        im = Image.fromarray(face)\n",
    "        im.save(directory + \"/\" + str(i) + \".jpg\")\n",
    "        os.remove(directory + filename)\n",
    "        i += 1\n",
    "    return faces"
   ]
  },
  {
   "cell_type": "code",
   "execution_count": 20,
   "id": "cedb1259-f206-44ab-85ed-32fc141f9aa4",
   "metadata": {},
   "outputs": [],
   "source": [
    "def load_dataset(directory):\n",
    "    for subdir in listdir(directory):\n",
    "        path = directory + subdir + '/'\n",
    "        if not isdir(path):\n",
    "            continue\n",
    "        faces = load_faces(path)"
   ]
  },
  {
   "cell_type": "code",
   "execution_count": 24,
   "id": "b786f0f4-6733-4488-b0fc-73532203e3bf",
   "metadata": {},
   "outputs": [],
   "source": [
    "load_dataset(training_folder)\n",
    "load_dataset(validating_folder)"
   ]
  },
  {
   "cell_type": "code",
   "execution_count": null,
   "id": "d10f76f0-4b1c-4ba4-8294-9e77daa7c65e",
   "metadata": {},
   "outputs": [],
   "source": []
  }
 ],
 "metadata": {
  "kernelspec": {
   "display_name": "Python 3 (ipykernel)",
   "language": "python",
   "name": "python3"
  },
  "language_info": {
   "codemirror_mode": {
    "name": "ipython",
    "version": 3
   },
   "file_extension": ".py",
   "mimetype": "text/x-python",
   "name": "python",
   "nbconvert_exporter": "python",
   "pygments_lexer": "ipython3",
   "version": "3.9.5"
  }
 },
 "nbformat": 4,
 "nbformat_minor": 5
}
